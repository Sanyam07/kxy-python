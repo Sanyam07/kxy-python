{
 "cells": [
  {
   "cell_type": "markdown",
   "metadata": {},
   "source": [
    "# Can a Trained Regression Model Be Improved Without Additional Variables?\n",
    "In this tutorial we show how to use the `kxy` package to quantify the extent to which a trained regression model can be improved without resorting to new datasets.\n",
    "\n",
    "We use the UCI Yacht Hydrodynamics dataset."
   ]
  },
  {
   "cell_type": "code",
   "execution_count": 1,
   "metadata": {},
   "outputs": [],
   "source": [
    "%load_ext autoreload\n",
    "%autoreload 2\n",
    "import warnings\n",
    "warnings.filterwarnings('ignore')\n",
    "\n",
    "# Required imports\n",
    "import pandas as pd\n",
    "import kxy"
   ]
  },
  {
   "cell_type": "code",
   "execution_count": 2,
   "metadata": {},
   "outputs": [],
   "source": [
    "df = pd.read_csv('http://archive.ics.uci.edu/ml/machine-learning-databases/'\\\n",
    "                 '00243/yacht_hydrodynamics.data', sep='[ ]{1,2}',\\\n",
    "                 names=['Longitudinal Position', 'Prismatic Coeefficient',\\\n",
    "                        'Length-Displacement', 'Beam-Draught Ratio',\\\n",
    "                        'Length-Beam Ratio', 'Froude Number',\\\n",
    "                        'Residuary Resistance'])"
   ]
  },
  {
   "cell_type": "markdown",
   "metadata": {},
   "source": [
    "## Basic Model 1: Linear Regression\n",
    "We begin by training a simple linear regression model."
   ]
  },
  {
   "cell_type": "code",
   "execution_count": 12,
   "metadata": {},
   "outputs": [
    {
     "data": {
      "text/plain": [
       "'Linear Regression Out-Of-Sample R^2: 0.648'"
      ]
     },
     "execution_count": 12,
     "metadata": {},
     "output_type": "execute_result"
    }
   ],
   "source": [
    "# Learning (Basic Linear Regression)\n",
    "from sklearn.linear_model import LinearRegression\n",
    "# Training\n",
    "label_column = 'Residuary Resistance'\n",
    "train_size = 200\n",
    "train_df = df.iloc[:train_size]\n",
    "x_train = train_df[['Longitudinal Position', 'Prismatic Coeefficient',\\\n",
    "                        'Length-Displacement', 'Beam-Draught Ratio',\\\n",
    "                        'Length-Beam Ratio', 'Froude Number']].values\n",
    "y_train = train_df[label_column].values\n",
    "model = LinearRegression().fit(x_train, y_train)\n",
    "\n",
    "# Testing\n",
    "test_df = df.iloc[train_size:]\n",
    "x_test = test_df[['Longitudinal Position', 'Prismatic Coeefficient',\\\n",
    "                        'Length-Displacement', 'Beam-Draught Ratio',\\\n",
    "                        'Length-Beam Ratio', 'Froude Number']].values\n",
    "y_test = test_df[label_column].values\n",
    "\n",
    "# Out-of-sample predictions\n",
    "predictions = model.predict(x_test)\n",
    "test_df['Prediction'] = predictions\n",
    "\n",
    "# In-sample predictions\n",
    "in_sample_predictions = model.predict(x_train)\n",
    "train_df['Prediction'] = in_sample_predictions\n",
    "\n",
    "# Out-of-sample accuracy (R^2)\n",
    "'Linear Regression Out-Of-Sample R^2: %.3f' % (model.score(x_test, y_test))"
   ]
  },
  {
   "cell_type": "code",
   "execution_count": 23,
   "metadata": {},
   "outputs": [
    {
     "name": "stdout",
     "output_type": "stream",
     "text": [
      "\n",
      "Model Parameters:\n",
      "* Longitudinal Position: 0.1725,\n",
      "* Prismatic Coeefficient: -32.0069,\n",
      "* Length-Displacement: 1.9683,\n",
      "* Length-Displacement: -0.9958,\n",
      "* Length-Beam Ratio: -2.6162,\n",
      "* Froude Number: 118.0419.\n"
     ]
    }
   ],
   "source": [
    "print('''\n",
    "Model Parameters:\n",
    "* Longitudinal Position: %.4f,\n",
    "* Prismatic Coeefficient: %.4f,\n",
    "* Length-Displacement: %.4f,\n",
    "* Length-Displacement: %.4f,\n",
    "* Length-Beam Ratio: %.4f,\n",
    "* Froude Number: %.4f.''' % tuple(list(model.coef_)))"
   ]
  },
  {
   "cell_type": "code",
   "execution_count": 24,
   "metadata": {},
   "outputs": [
    {
     "name": "stdout",
     "output_type": "stream",
     "text": [
      "\n",
      "Model Parameters Adjusted For Std:\n",
      "* Longitudinal Position: 0.2288,\n",
      "* Prismatic Coeefficient: -0.4150,\n",
      "* Length-Displacement: 0.4872,\n",
      "* Length-Displacement: -0.5807,\n",
      "* Length-Beam Ratio: -0.6904,\n",
      "* Froude Number: 11.9654.\n"
     ]
    }
   ],
   "source": [
    "print('''\n",
    "Model Parameters (Adjusted For Std):\n",
    "* Longitudinal Position: %.4f,\n",
    "* Prismatic Coeefficient: %.4f,\n",
    "* Length-Displacement: %.4f,\n",
    "* Length-Displacement: %.4f,\n",
    "* Length-Beam Ratio: %.4f,\n",
    "* Froude Number: %.4f.''' % tuple(list(model.coef_*x_train.std(axis=0))))"
   ]
  },
  {
   "cell_type": "markdown",
   "metadata": {},
   "source": [
    "### Improvability Analysis Model 1"
   ]
  },
  {
   "cell_type": "code",
   "execution_count": 11,
   "metadata": {},
   "outputs": [
    {
     "data": {
      "text/html": [
       "<div>\n",
       "<style scoped>\n",
       "    .dataframe tbody tr th:only-of-type {\n",
       "        vertical-align: middle;\n",
       "    }\n",
       "\n",
       "    .dataframe tbody tr th {\n",
       "        vertical-align: top;\n",
       "    }\n",
       "\n",
       "    .dataframe thead th {\n",
       "        text-align: right;\n",
       "    }\n",
       "</style>\n",
       "<table border=\"1\" class=\"dataframe\">\n",
       "  <thead>\n",
       "    <tr style=\"text-align: right;\">\n",
       "      <th></th>\n",
       "      <th>Lost R^2</th>\n",
       "      <th>Lost True Log-Likelihood Per Sample</th>\n",
       "      <th>Residual R^2</th>\n",
       "      <th>Residual True Log-Likelihood Per Sample</th>\n",
       "    </tr>\n",
       "  </thead>\n",
       "  <tbody>\n",
       "    <tr>\n",
       "      <th>0</th>\n",
       "      <td>0.008811</td>\n",
       "      <td>0.0</td>\n",
       "      <td>0.744259</td>\n",
       "      <td>2.855959</td>\n",
       "    </tr>\n",
       "  </tbody>\n",
       "</table>\n",
       "</div>"
      ],
      "text/plain": [
       "   Lost R^2  Lost True Log-Likelihood Per Sample  Residual R^2  \\\n",
       "0  0.008811                                  0.0      0.744259   \n",
       "\n",
       "   Residual True Log-Likelihood Per Sample  \n",
       "0                                 2.855959  "
      ]
     },
     "execution_count": 11,
     "metadata": {},
     "output_type": "execute_result"
    }
   ],
   "source": [
    "# Improvability analysis\n",
    "improvability_analysis = train_df.kxy.model_improvability_analysis(\\\n",
    "    label_column, 'Prediction', space='dual')\n",
    "improvability_analysis"
   ]
  },
  {
   "cell_type": "markdown",
   "metadata": {},
   "source": [
    "#### Column Meaning\n",
    "\n",
    "* `Lost R^2`: The $R^2$ that has been irreversibly lost by the trained model. That is, the difference between the highest $R^2$ that could be achieved from raw inputs, and the highest $R^2$ that could be achieved from model predictions.\n",
    "* `Lost True Log-Likelihood Per Sample`: The true log-likelihood per sample that has been irreversibly lost by the trained model. That is, the difference between the highest log-likelihood per sample that could be achieved from raw inputs, and the highest log-likelihood per sample that could be achieved from model predictions.\n",
    "* `Residual R^2`:  The highest $R^2$ that can be achieved when trying to predict model residuals using inputs.\n",
    "* `Residual True Log-Likelihood Per Sample`: The highest log-likelihood per sample that can be achieved when trying to predict model residuals using inputs."
   ]
  },
  {
   "cell_type": "markdown",
   "metadata": {},
   "source": [
    "### Interpretation Analysis Model 1"
   ]
  },
  {
   "cell_type": "markdown",
   "metadata": {},
   "source": [
    "Judging by the low values of `Lost R^2` and `Lost True Log-Likelihood Per Sample`, the linear regression model doesn't seem to have resulted in information loss. Most of the value in using inputs to predict the label are captured in the model predictions. \n",
    "\n",
    "However, given the high `Residual R^2`, the trained model itself doesn't seem to be the most accurate.\n",
    "\n",
    "Let's another simple model."
   ]
  },
  {
   "cell_type": "code",
   "execution_count": 33,
   "metadata": {},
   "outputs": [
    {
     "data": {
      "text/html": [
       "<div>\n",
       "<style scoped>\n",
       "    .dataframe tbody tr th:only-of-type {\n",
       "        vertical-align: middle;\n",
       "    }\n",
       "\n",
       "    .dataframe tbody tr th {\n",
       "        vertical-align: top;\n",
       "    }\n",
       "\n",
       "    .dataframe thead th {\n",
       "        text-align: right;\n",
       "    }\n",
       "</style>\n",
       "<table border=\"1\" class=\"dataframe\">\n",
       "  <thead>\n",
       "    <tr style=\"text-align: right;\">\n",
       "      <th></th>\n",
       "      <th>Variable</th>\n",
       "      <th>Selection Order</th>\n",
       "      <th>Univariate Achievable R^2</th>\n",
       "      <th>Maximum Marginal R^2 Increase</th>\n",
       "      <th>Running Achievable R^2</th>\n",
       "      <th>Univariate Mutual Information</th>\n",
       "      <th>Conditional Mutual Information</th>\n",
       "      <th>Univariate Maximum True Log-Likelihood Increase Per Sample</th>\n",
       "      <th>Maximum Marginal True Log-Likelihood Increase Per Sample</th>\n",
       "      <th>Running Mutual Information</th>\n",
       "      <th>Running Maximum Log-Likelihood Increase Per Sample</th>\n",
       "    </tr>\n",
       "  </thead>\n",
       "  <tbody>\n",
       "    <tr>\n",
       "      <th>0</th>\n",
       "      <td>Froude Number</td>\n",
       "      <td>1</td>\n",
       "      <td>0.988038</td>\n",
       "      <td>0.988038</td>\n",
       "      <td>0.988038</td>\n",
       "      <td>2.213016</td>\n",
       "      <td>2.213016</td>\n",
       "      <td>2.213016</td>\n",
       "      <td>2.213016</td>\n",
       "      <td>2.213016</td>\n",
       "      <td>2.213016</td>\n",
       "    </tr>\n",
       "    <tr>\n",
       "      <th>1</th>\n",
       "      <td>Beam-Draught Ratio</td>\n",
       "      <td>2</td>\n",
       "      <td>0.002367</td>\n",
       "      <td>0.002852</td>\n",
       "      <td>0.990891</td>\n",
       "      <td>0.001185</td>\n",
       "      <td>0.136207</td>\n",
       "      <td>0.001185</td>\n",
       "      <td>0.136207</td>\n",
       "      <td>2.349223</td>\n",
       "      <td>2.349223</td>\n",
       "    </tr>\n",
       "    <tr>\n",
       "      <th>2</th>\n",
       "      <td>Prismatic Coeefficient</td>\n",
       "      <td>3</td>\n",
       "      <td>0.002964</td>\n",
       "      <td>0.002031</td>\n",
       "      <td>0.992921</td>\n",
       "      <td>0.001484</td>\n",
       "      <td>0.126098</td>\n",
       "      <td>0.001484</td>\n",
       "      <td>0.126098</td>\n",
       "      <td>2.475321</td>\n",
       "      <td>2.475321</td>\n",
       "    </tr>\n",
       "    <tr>\n",
       "      <th>3</th>\n",
       "      <td>Longitudinal Position</td>\n",
       "      <td>4</td>\n",
       "      <td>0.000064</td>\n",
       "      <td>0.001557</td>\n",
       "      <td>0.994478</td>\n",
       "      <td>0.000032</td>\n",
       "      <td>0.124213</td>\n",
       "      <td>0.000032</td>\n",
       "      <td>0.124213</td>\n",
       "      <td>2.599534</td>\n",
       "      <td>2.599534</td>\n",
       "    </tr>\n",
       "    <tr>\n",
       "      <th>4</th>\n",
       "      <td>Length-Beam Ratio</td>\n",
       "      <td>5</td>\n",
       "      <td>0.003344</td>\n",
       "      <td>0.001137</td>\n",
       "      <td>0.995615</td>\n",
       "      <td>0.001675</td>\n",
       "      <td>0.115250</td>\n",
       "      <td>0.001675</td>\n",
       "      <td>0.115250</td>\n",
       "      <td>2.714784</td>\n",
       "      <td>2.714784</td>\n",
       "    </tr>\n",
       "    <tr>\n",
       "      <th>5</th>\n",
       "      <td>Length-Displacement</td>\n",
       "      <td>6</td>\n",
       "      <td>0.001429</td>\n",
       "      <td>0.000890</td>\n",
       "      <td>0.996505</td>\n",
       "      <td>0.000715</td>\n",
       "      <td>0.113415</td>\n",
       "      <td>0.000715</td>\n",
       "      <td>0.113415</td>\n",
       "      <td>2.828200</td>\n",
       "      <td>2.828200</td>\n",
       "    </tr>\n",
       "  </tbody>\n",
       "</table>\n",
       "</div>"
      ],
      "text/plain": [
       "                 Variable  Selection Order  Univariate Achievable R^2  \\\n",
       "0           Froude Number                1                   0.988038   \n",
       "1      Beam-Draught Ratio                2                   0.002367   \n",
       "2  Prismatic Coeefficient                3                   0.002964   \n",
       "3   Longitudinal Position                4                   0.000064   \n",
       "4       Length-Beam Ratio                5                   0.003344   \n",
       "5     Length-Displacement                6                   0.001429   \n",
       "\n",
       "   Maximum Marginal R^2 Increase  Running Achievable R^2  \\\n",
       "0                       0.988038                0.988038   \n",
       "1                       0.002852                0.990891   \n",
       "2                       0.002031                0.992921   \n",
       "3                       0.001557                0.994478   \n",
       "4                       0.001137                0.995615   \n",
       "5                       0.000890                0.996505   \n",
       "\n",
       "   Univariate Mutual Information  Conditional Mutual Information  \\\n",
       "0                       2.213016                        2.213016   \n",
       "1                       0.001185                        0.136207   \n",
       "2                       0.001484                        0.126098   \n",
       "3                       0.000032                        0.124213   \n",
       "4                       0.001675                        0.115250   \n",
       "5                       0.000715                        0.113415   \n",
       "\n",
       "   Univariate Maximum True Log-Likelihood Increase Per Sample  \\\n",
       "0                                           2.213016            \n",
       "1                                           0.001185            \n",
       "2                                           0.001484            \n",
       "3                                           0.000032            \n",
       "4                                           0.001675            \n",
       "5                                           0.000715            \n",
       "\n",
       "   Maximum Marginal True Log-Likelihood Increase Per Sample  \\\n",
       "0                                           2.213016          \n",
       "1                                           0.136207          \n",
       "2                                           0.126098          \n",
       "3                                           0.124213          \n",
       "4                                           0.115250          \n",
       "5                                           0.113415          \n",
       "\n",
       "   Running Mutual Information  \\\n",
       "0                    2.213016   \n",
       "1                    2.349223   \n",
       "2                    2.475321   \n",
       "3                    2.599534   \n",
       "4                    2.714784   \n",
       "5                    2.828200   \n",
       "\n",
       "   Running Maximum Log-Likelihood Increase Per Sample  \n",
       "0                                           2.213016   \n",
       "1                                           2.349223   \n",
       "2                                           2.475321   \n",
       "3                                           2.599534   \n",
       "4                                           2.714784   \n",
       "5                                           2.828200   "
      ]
     },
     "execution_count": 33,
     "metadata": {},
     "output_type": "execute_result"
    }
   ],
   "source": [
    "train_df.kxy.variable_selection_analysis(label_column, \\\n",
    "    input_columns=['Longitudinal Position', 'Prismatic Coeefficient',\\\n",
    "                        'Length-Displacement', 'Beam-Draught Ratio',\\\n",
    "                        'Length-Beam Ratio', 'Froude Number'])"
   ]
  },
  {
   "cell_type": "markdown",
   "metadata": {},
   "source": [
    "Our variable selection analysis suggests that the `Froude Number` variable is, by far, the most important. Let's try traning a simple univariate nonlinear regression model, namely an RBF-Gaussian Process regression."
   ]
  },
  {
   "cell_type": "markdown",
   "metadata": {},
   "source": [
    "## Basic Model 2: Linear Regression"
   ]
  },
  {
   "cell_type": "code",
   "execution_count": 27,
   "metadata": {},
   "outputs": [
    {
     "data": {
      "text/plain": [
       "'Univariate RBF-GPR Out-Of-Sample R^2: 0.979'"
      ]
     },
     "execution_count": 27,
     "metadata": {},
     "output_type": "execute_result"
    }
   ],
   "source": [
    "import GPy # pip install GPy\n",
    "x_train = train_df[['Froude Number']].values\n",
    "x_test = test_df[['Froude Number']].values\n",
    "kernel = GPy.kern.RBF(input_dim=1)\n",
    "gp_model = GPy.models.GPRegression(x_train, y_train[:, None], kernel)\n",
    "gp_model.optimize()\n",
    "gp_predictions = gp_model.predict(x_test)[0].flatten()\n",
    "\n",
    "# Out-of-sample accuracy (R^2)\n",
    "ss_res = ((gp_predictions-y_test)**2).sum()\n",
    "ss_tot = ((y_test-y_test.mean())**2).sum()\n",
    "'Univariate RBF-GPR Out-Of-Sample R^2: %.3f' % (1.-(ss_res/ss_tot))"
   ]
  },
  {
   "cell_type": "markdown",
   "metadata": {},
   "source": [
    "### Improvability Analysis Model 2"
   ]
  },
  {
   "cell_type": "code",
   "execution_count": 30,
   "metadata": {},
   "outputs": [
    {
     "data": {
      "text/html": [
       "<div>\n",
       "<style scoped>\n",
       "    .dataframe tbody tr th:only-of-type {\n",
       "        vertical-align: middle;\n",
       "    }\n",
       "\n",
       "    .dataframe tbody tr th {\n",
       "        vertical-align: top;\n",
       "    }\n",
       "\n",
       "    .dataframe thead th {\n",
       "        text-align: right;\n",
       "    }\n",
       "</style>\n",
       "<table border=\"1\" class=\"dataframe\">\n",
       "  <thead>\n",
       "    <tr style=\"text-align: right;\">\n",
       "      <th></th>\n",
       "      <th>Lost R^2</th>\n",
       "      <th>Lost True Log-Likelihood Per Sample</th>\n",
       "      <th>Residual R^2</th>\n",
       "      <th>Residual True Log-Likelihood Per Sample</th>\n",
       "    </tr>\n",
       "  </thead>\n",
       "  <tbody>\n",
       "    <tr>\n",
       "      <th>0</th>\n",
       "      <td>0.010808</td>\n",
       "      <td>0.0</td>\n",
       "      <td>0.148137</td>\n",
       "      <td>0.792748</td>\n",
       "    </tr>\n",
       "  </tbody>\n",
       "</table>\n",
       "</div>"
      ],
      "text/plain": [
       "   Lost R^2  Lost True Log-Likelihood Per Sample  Residual R^2  \\\n",
       "0  0.010808                                  0.0      0.148137   \n",
       "\n",
       "   Residual True Log-Likelihood Per Sample  \n",
       "0                                 0.792748  "
      ]
     },
     "execution_count": 30,
     "metadata": {},
     "output_type": "execute_result"
    }
   ],
   "source": [
    "# Improvability analysis\n",
    "train_df['Prediction'] = gp_model.predict(x_train)[0].flatten()\n",
    "improvability_analysis = train_df.kxy.model_improvability_analysis(\\\n",
    "    label_column, 'Prediction', space='dual')\n",
    "improvability_analysis"
   ]
  },
  {
   "cell_type": "code",
   "execution_count": 28,
   "metadata": {},
   "outputs": [
    {
     "data": {
      "image/png": "[encoded data removed]",
      "text/plain": [
       "<Figure size 720x720 with 1 Axes>"
      ]
     },
     "metadata": {
      "needs_background": "light"
     },
     "output_type": "display_data"
    }
   ],
   "source": [
    "import pylab as plt\n",
    "fig, ax = plt.subplots(1, 1, figsize=(10, 10))\n",
    "gp_model.plot_data(ax=ax, label='Training Data')\n",
    "gp_model.plot(ax=ax, plot_data=False)\n",
    "ax.plot(x_test, y_test, '+', c='k', label='Testing Data')\n",
    "ax.plot(x_test, gp_predictions, '.', c='green', label='GP Predictions')\n",
    "model = LinearRegression().fit(x_train, y_train)\n",
    "import numpy as np\n",
    "lr_x = np.arange(0., 0.7, 0.05)\n",
    "lr_y = model.predict(lr_x[:, None])\n",
    "ax.plot(lr_x, lr_y, '.--', c='red', label='Linear Regression Fit')\n",
    "ax.set_xlabel('Froude Number')\n",
    "ax.set_ylabel(label_column)\n",
    "plt.legend()\n",
    "plt.show()"
   ]
  },
  {
   "cell_type": "markdown",
   "metadata": {},
   "source": [
    "### Interpretation Analysis Model 2"
   ]
  },
  {
   "cell_type": "markdown",
   "metadata": {},
   "source": [
    "We can see at a glance that the relationship between the label and the most important variable, namely `Froude Number` is nonlinear, and that this nonlinearity is well captured by the RBF-GP regression.\n",
    "\n",
    "This is also evidenced in our improvability analysis as the `Residual R^2` dropped from 0.74 to 0.14.\n",
    "\n",
    "Note that the $R^2$ of our RBF-GP regression model is very closed to the theoretical best (i.e. `Univariate Achievable R^2` of `Froude Number`)."
   ]
  },
  {
   "cell_type": "markdown",
   "metadata": {},
   "source": [
    "## Next Step\n",
    "\n",
    "The fit achieved so far is great, but as evidenced by the fact that the same value of the `Froude Number` variable can result in a wide range of outputs for large froude numbers, and by the non-negligible `Residual R^2`, there is still some ambiguity that might be alleviated with additional inputs.\n",
    "\n",
    "We could look at fitting another model on the residuals of our RBF-GP regression, and carry on iterating additively until the model improvability analysis suggests that residuals are independent from inputs."
   ]
  }
 ],
 "metadata": {
  "kernelspec": {
   "display_name": "kxy",
   "language": "python",
   "name": "kxy"
  },
  "language_info": {
   "codemirror_mode": {
    "name": "ipython",
    "version": 3
   },
   "file_extension": ".py",
   "mimetype": "text/x-python",
   "name": "python",
   "nbconvert_exporter": "python",
   "pygments_lexer": "ipython3",
   "version": "3.7.7"
  }
 },
 "nbformat": 4,
 "nbformat_minor": 4
}
