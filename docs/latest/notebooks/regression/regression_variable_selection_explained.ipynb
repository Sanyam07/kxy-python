{
 "cells": [
  {
   "cell_type": "markdown",
   "metadata": {},
   "source": [
    "# Model-Free Regression Variable Selection Explained\n",
    "In this tutorial we show how to run the model-free variable selection analysis provided in the `kxy` package on a regression problem. \n",
    "\n",
    "We use the UCI Yacht Hydrodynamics dataset."
   ]
  },
  {
   "cell_type": "code",
   "execution_count": 1,
   "metadata": {},
   "outputs": [],
   "source": [
    "%load_ext autoreload\n",
    "%autoreload 2\n",
    "import warnings\n",
    "warnings.filterwarnings('ignore')\n",
    "\n",
    "# Required imports\n",
    "import pandas as pd\n",
    "import kxy"
   ]
  },
  {
   "cell_type": "code",
   "execution_count": 2,
   "metadata": {},
   "outputs": [],
   "source": [
    "df = pd.read_csv('http://archive.ics.uci.edu/ml/machine-learning-databases/'\\\n",
    "                 '00243/yacht_hydrodynamics.data', sep='[ ]{1,2}',\\\n",
    "                 names=['Longitudinal Position', 'Prismatic Coeefficient',\\\n",
    "                        'Length-Displacement', 'Beam-Draught Ratio',\\\n",
    "                        'Length-Beam Ratio', 'Froude Number',\\\n",
    "                        'Residuary Resistance'])\n",
    "df.rename(columns={col: col.title() for col in df.columns}, inplace=True)"
   ]
  },
  {
   "cell_type": "markdown",
   "metadata": {},
   "source": [
    "## How To Generate The Variable Selection Analysis"
   ]
  },
  {
   "cell_type": "code",
   "execution_count": 3,
   "metadata": {},
   "outputs": [],
   "source": [
    "var_selection_analysis = df.kxy.variable_selection_analysis('Residuary Resistance')"
   ]
  },
  {
   "cell_type": "code",
   "execution_count": 4,
   "metadata": {},
   "outputs": [
    {
     "data": {
      "text/html": [
       "<div>\n",
       "<style scoped>\n",
       "    .dataframe tbody tr th:only-of-type {\n",
       "        vertical-align: middle;\n",
       "    }\n",
       "\n",
       "    .dataframe tbody tr th {\n",
       "        vertical-align: top;\n",
       "    }\n",
       "\n",
       "    .dataframe thead th {\n",
       "        text-align: right;\n",
       "    }\n",
       "</style>\n",
       "<table border=\"1\" class=\"dataframe\">\n",
       "  <thead>\n",
       "    <tr style=\"text-align: right;\">\n",
       "      <th></th>\n",
       "      <th>Variable</th>\n",
       "      <th>Selection Order</th>\n",
       "      <th>Univariate Achievable R^2</th>\n",
       "      <th>Maximum Marginal R^2 Increase</th>\n",
       "      <th>Running Achievable R^2</th>\n",
       "      <th>Univariate Mutual Information</th>\n",
       "      <th>Conditional Mutual Information</th>\n",
       "      <th>Univariate Maximum True Log-Likelihood Increase Per Sample</th>\n",
       "      <th>Maximum Marginal True Log-Likelihood Increase Per Sample</th>\n",
       "      <th>Running Mutual Information</th>\n",
       "      <th>Running Maximum Log-Likelihood Increase Per Sample</th>\n",
       "    </tr>\n",
       "  </thead>\n",
       "  <tbody>\n",
       "    <tr>\n",
       "      <th>0</th>\n",
       "      <td>Froude Number</td>\n",
       "      <td>1</td>\n",
       "      <td>0.988036</td>\n",
       "      <td>0.988036</td>\n",
       "      <td>0.988036</td>\n",
       "      <td>2.212932</td>\n",
       "      <td>2.212932</td>\n",
       "      <td>2.212932</td>\n",
       "      <td>2.212932</td>\n",
       "      <td>2.212932</td>\n",
       "      <td>2.212932</td>\n",
       "    </tr>\n",
       "    <tr>\n",
       "      <th>1</th>\n",
       "      <td>Beam-Draught Ratio</td>\n",
       "      <td>2</td>\n",
       "      <td>0.001181</td>\n",
       "      <td>0.002810</td>\n",
       "      <td>0.990847</td>\n",
       "      <td>0.000591</td>\n",
       "      <td>0.133881</td>\n",
       "      <td>0.000591</td>\n",
       "      <td>0.133881</td>\n",
       "      <td>2.346813</td>\n",
       "      <td>2.346813</td>\n",
       "    </tr>\n",
       "    <tr>\n",
       "      <th>2</th>\n",
       "      <td>Length-Displacement</td>\n",
       "      <td>3</td>\n",
       "      <td>0.002635</td>\n",
       "      <td>0.002020</td>\n",
       "      <td>0.992866</td>\n",
       "      <td>0.001319</td>\n",
       "      <td>0.124648</td>\n",
       "      <td>0.001319</td>\n",
       "      <td>0.124648</td>\n",
       "      <td>2.471462</td>\n",
       "      <td>2.471462</td>\n",
       "    </tr>\n",
       "    <tr>\n",
       "      <th>3</th>\n",
       "      <td>Longitudinal Position</td>\n",
       "      <td>4</td>\n",
       "      <td>0.001964</td>\n",
       "      <td>0.001539</td>\n",
       "      <td>0.994406</td>\n",
       "      <td>0.000983</td>\n",
       "      <td>0.121544</td>\n",
       "      <td>0.000983</td>\n",
       "      <td>0.121544</td>\n",
       "      <td>2.593006</td>\n",
       "      <td>2.593006</td>\n",
       "    </tr>\n",
       "    <tr>\n",
       "      <th>4</th>\n",
       "      <td>Prismatic Coeefficient</td>\n",
       "      <td>5</td>\n",
       "      <td>0.001355</td>\n",
       "      <td>0.001162</td>\n",
       "      <td>0.995567</td>\n",
       "      <td>0.000678</td>\n",
       "      <td>0.116361</td>\n",
       "      <td>0.000678</td>\n",
       "      <td>0.116361</td>\n",
       "      <td>2.709367</td>\n",
       "      <td>2.709367</td>\n",
       "    </tr>\n",
       "    <tr>\n",
       "      <th>5</th>\n",
       "      <td>Length-Beam Ratio</td>\n",
       "      <td>6</td>\n",
       "      <td>0.000206</td>\n",
       "      <td>0.000874</td>\n",
       "      <td>0.996441</td>\n",
       "      <td>0.000103</td>\n",
       "      <td>0.109806</td>\n",
       "      <td>0.000103</td>\n",
       "      <td>0.109806</td>\n",
       "      <td>2.819172</td>\n",
       "      <td>2.819172</td>\n",
       "    </tr>\n",
       "  </tbody>\n",
       "</table>\n",
       "</div>"
      ],
      "text/plain": [
       "                 Variable  Selection Order  Univariate Achievable R^2  \\\n",
       "0           Froude Number                1                   0.988036   \n",
       "1      Beam-Draught Ratio                2                   0.001181   \n",
       "2     Length-Displacement                3                   0.002635   \n",
       "3   Longitudinal Position                4                   0.001964   \n",
       "4  Prismatic Coeefficient                5                   0.001355   \n",
       "5       Length-Beam Ratio                6                   0.000206   \n",
       "\n",
       "   Maximum Marginal R^2 Increase  Running Achievable R^2  \\\n",
       "0                       0.988036                0.988036   \n",
       "1                       0.002810                0.990847   \n",
       "2                       0.002020                0.992866   \n",
       "3                       0.001539                0.994406   \n",
       "4                       0.001162                0.995567   \n",
       "5                       0.000874                0.996441   \n",
       "\n",
       "   Univariate Mutual Information  Conditional Mutual Information  \\\n",
       "0                       2.212932                        2.212932   \n",
       "1                       0.000591                        0.133881   \n",
       "2                       0.001319                        0.124648   \n",
       "3                       0.000983                        0.121544   \n",
       "4                       0.000678                        0.116361   \n",
       "5                       0.000103                        0.109806   \n",
       "\n",
       "   Univariate Maximum True Log-Likelihood Increase Per Sample  \\\n",
       "0                                           2.212932            \n",
       "1                                           0.000591            \n",
       "2                                           0.001319            \n",
       "3                                           0.000983            \n",
       "4                                           0.000678            \n",
       "5                                           0.000103            \n",
       "\n",
       "   Maximum Marginal True Log-Likelihood Increase Per Sample  \\\n",
       "0                                           2.212932          \n",
       "1                                           0.133881          \n",
       "2                                           0.124648          \n",
       "3                                           0.121544          \n",
       "4                                           0.116361          \n",
       "5                                           0.109806          \n",
       "\n",
       "   Running Mutual Information  \\\n",
       "0                    2.212932   \n",
       "1                    2.346813   \n",
       "2                    2.471462   \n",
       "3                    2.593006   \n",
       "4                    2.709367   \n",
       "5                    2.819172   \n",
       "\n",
       "   Running Maximum Log-Likelihood Increase Per Sample  \n",
       "0                                           2.212932   \n",
       "1                                           2.346813   \n",
       "2                                           2.471462   \n",
       "3                                           2.593006   \n",
       "4                                           2.709367   \n",
       "5                                           2.819172   "
      ]
     },
     "execution_count": 4,
     "metadata": {},
     "output_type": "execute_result"
    }
   ],
   "source": [
    "var_selection_analysis"
   ]
  },
  {
   "cell_type": "markdown",
   "metadata": {},
   "source": [
    "**Note:** the same syntax is used for classification problems. The type of supervised learning problem is inferred based on the label column."
   ]
  },
  {
   "cell_type": "markdown",
   "metadata": {},
   "source": [
    "## Column Meaning\n",
    "\n",
    "* `Selection Order`: Order in which variables are selected, from the most important (1) to the least important. The first variable selected is the one with the highest mutual information with the label (i.e. that is the most useful when used in isolation). The $(i+1)$-th variable selected is the variable, among all variables not yet selected, that complements all $i$ variables previously selected the most.\n",
    "* `Univariate Achievable R^2`: The highest $R^2$ achievable by a model using the variable in isolation to predict the label.\n",
    "* `Maximum Marginal R^2 Increase`: The highest amount by which the $R^2$ can be increased as a result of including this variable to all previously selected variables.\n",
    "* `Running Achievable R^2`: The highest $R^2$ achievable by a model using all variables selected so far to predict the label.\n",
    "* `Univariate Mutual Information`: Maximum-entropy model-free estimate of the mutual information between the variable and the label, under the true data generating distribution.\n",
    "* `Conditional Mutual Information`: Maximum-entropy model-free estimate of the mutual information between the variable and the label conditional on all variables previously selected (if any), under the true data generating distribution.\n",
    "* `Running Mutual Information`: Maximum-entropy model-free estimate of the mutual information between all variables selected so far (including this variable) and the label, under the true data generating distribution.\n",
    "* `Univariate Maximum True Log-Likelihood Increase Per Sample`: The highest amount by which the true likelihood per sample of a model using the variable in isolation to predict the label can increase over the naive baseline strategy consisting of always predicting the mode of the true unconditional distribution of the label.\n",
    "* `Maximum Marginal True Log-Likelihood Increase Per Sample`: The highest amount by which the true likelihood per sample of a model using all variables selected prior to this one to predict the label can increase as a result of adding this variable.\n",
    "* `Running Maximum Log-Likelihood Increase Per Sample`: The highest amount by which the true likelihood per sample of a model using all variables selected so far, including this one, to predict the label can increase over the naive baseline strategy consisting of always predicting the mode of the true unconditional distribution of the label."
   ]
  },
  {
   "cell_type": "code",
   "execution_count": 5,
   "metadata": {},
   "outputs": [
    {
     "data": {
      "image/png": "[encoded data removed]",
      "text/plain": [
       "<Figure size 1440x720 with 2 Axes>"
      ]
     },
     "metadata": {
      "needs_background": "light"
     },
     "output_type": "display_data"
    }
   ],
   "source": [
    "import pylab as plt\n",
    "fig, ax = plt.subplots(1, 2, figsize=(20, 10))\n",
    "var_selection_analysis[['Variable', 'Univariate Achievable R^2', \\\n",
    "    'Maximum Marginal R^2 Increase']]\\\n",
    "    .plot.bar(x='Variable', rot=90, ax=ax[0])\n",
    "ax[0].set_ylabel(r'$R^2$', fontsize=15)\n",
    "var_selection_analysis[['Variable', 'Univariate Mutual Information', \\\n",
    "    'Conditional Mutual Information']]\\\n",
    "    .plot.bar(x='Variable', rot=90, ax=ax[1])\n",
    "ax[1].set_ylabel('Mutual Information (nats)', fontsize=15)\n",
    "plt.show()"
   ]
  }
 ],
 "metadata": {
  "kernelspec": {
   "display_name": "kxy",
   "language": "python",
   "name": "kxy"
  },
  "language_info": {
   "codemirror_mode": {
    "name": "ipython",
    "version": 3
   },
   "file_extension": ".py",
   "mimetype": "text/x-python",
   "name": "python",
   "nbconvert_exporter": "python",
   "pygments_lexer": "ipython3",
   "version": "3.7.7"
  }
 },
 "nbformat": 4,
 "nbformat_minor": 4
}
