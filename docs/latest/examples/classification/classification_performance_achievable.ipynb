{
 "cells": [
  {
   "cell_type": "markdown",
   "metadata": {},
   "source": [
    "# Calculating the Best Performance Achievable in a Classification Problem\n",
    "In this tutorial we show how to run to use the `kxy` package to estimate the best performance that can be achieved when using a specific set of variables in a regression problem.\n",
    "\n",
    "We use the UCI bank note classification dataset."
   ]
  },
  {
   "cell_type": "code",
   "execution_count": 1,
   "metadata": {},
   "outputs": [],
   "source": [
    "%load_ext autoreload\n",
    "%autoreload 2\n",
    "import warnings\n",
    "warnings.filterwarnings('ignore')\n",
    "\n",
    "# Required imports\n",
    "import pandas as pd\n",
    "import kxy"
   ]
  },
  {
   "cell_type": "code",
   "execution_count": 2,
   "metadata": {},
   "outputs": [],
   "source": [
    "url = 'http://archive.ics.uci.edu/ml/machine-learning-databases/00267/' \\\n",
    "    'data_banknote_authentication.txt'\n",
    "df = pd.read_csv(url, names=['Variance', 'Skewness', 'Kurtosis', 'Entropy', 'Is Fake'])"
   ]
  },
  {
   "cell_type": "markdown",
   "metadata": {},
   "source": [
    "## How To Generate The Achievable Performance Analysis"
   ]
  },
  {
   "cell_type": "code",
   "execution_count": 3,
   "metadata": {},
   "outputs": [],
   "source": [
    "performance_analysis = df.kxy.achievable_performance_analysis('Is Fake', \\\n",
    "    input_columns=()) # Use all columns but the label column as inputs"
   ]
  },
  {
   "cell_type": "code",
   "execution_count": 4,
   "metadata": {},
   "outputs": [
    {
     "data": {
      "text/html": [
       "<style  type=\"text/css\" >\n",
       "</style><table id=\"T_f2f94ef2_acf2_11ea_a5a1_aae9fe8768b6\" ><thead>    <tr>        <th class=\"col_heading level0 col0\" >Achievable R^2</th>        <th class=\"col_heading level0 col1\" >Achievable Log-Likelihood Per Sample</th>        <th class=\"col_heading level0 col2\" >Achievable Accuracy</th>    </tr></thead><tbody>\n",
       "                <tr>\n",
       "                                <td id=\"T_f2f94ef2_acf2_11ea_a5a1_aae9fe8768b6row0_col0\" class=\"data row0 col0\" >0.990765</td>\n",
       "                        <td id=\"T_f2f94ef2_acf2_11ea_a5a1_aae9fe8768b6row0_col1\" class=\"data row0 col1\" >-0</td>\n",
       "                        <td id=\"T_f2f94ef2_acf2_11ea_a5a1_aae9fe8768b6row0_col2\" class=\"data row0 col2\" >1</td>\n",
       "            </tr>\n",
       "    </tbody></table>"
      ],
      "text/plain": [
       "<pandas.io.formats.style.Styler at 0x1a2526a7d0>"
      ]
     },
     "execution_count": 4,
     "metadata": {},
     "output_type": "execute_result"
    }
   ],
   "source": [
    "performance_analysis"
   ]
  },
  {
   "cell_type": "markdown",
   "metadata": {},
   "source": [
    "**Note:** the same syntax is used for regression problems. The type of supervised learning problem is inferred based on the label column."
   ]
  },
  {
   "cell_type": "markdown",
   "metadata": {},
   "source": [
    "## Column Meaning\n",
    "\n",
    "* `Achievable R^2`: The highest $R^2$ that **can be achieved** by a model using the inputs to predict the label.\n",
    "* `Achievable True Log-Likelihood Per Sample`: The highest true log-likelihood per sample that **can be achieved** by a model using the inputs to predict the label.\n",
    "* `Achievable Accuracy`: The highest classification accuracy that **can be achieved** by a model using the inputs to predict the label.\n",
    "\n",
    "These performances are not mere upper bounds, they are attainable.\n"
   ]
  }
 ],
 "metadata": {
  "kernelspec": {
   "display_name": "kxy",
   "language": "python",
   "name": "kxy"
  },
  "language_info": {
   "codemirror_mode": {
    "name": "ipython",
    "version": 3
   },
   "file_extension": ".py",
   "mimetype": "text/x-python",
   "name": "python",
   "nbconvert_exporter": "python",
   "pygments_lexer": "ipython3",
   "version": "3.7.7"
  }
 },
 "nbformat": 4,
 "nbformat_minor": 4
}
